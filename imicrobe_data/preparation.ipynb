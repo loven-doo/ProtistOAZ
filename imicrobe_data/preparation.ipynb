{
 "cells": [
  {
   "cell_type": "code",
   "execution_count": 1,
   "metadata": {},
   "outputs": [],
   "source": [
    "# imports\n",
    "import os\n",
    "import sys\n",
    "import json\n",
    "\n",
    "import eagledb\n",
    "import eagle\n",
    "from eagledb.scheme import GenomeInfo\n",
    "from eagle.lib.seqs import SeqsDict\n",
    "\n",
    "sys.path[0] = os.path.abspath(\"../\")"
   ]
  },
  {
   "cell_type": "code",
   "execution_count": 2,
   "metadata": {},
   "outputs": [],
   "source": [
    "# constants\n",
    "SOURCES_DIR = \"source\"\n",
    "FNA_PATH = os.path.join(SOURCES_DIR, \"CAM_P_0001000.nt.fa\")\n",
    "FNA_META_PATH = os.path.join(SOURCES_DIR, \"fna_meta.csv\")\n",
    "FNA_META_SEP = \",\"\n",
    "RNA_18S_PATH = os.path.join(SOURCES_DIR, \"18s.fasta\")\n",
    "PREPARED_DIR = \"prepared\"\n",
    "PREPARED_18S_PATH = os.path.join(PREPARED_DIR, \"18s.fasta\")\n",
    "PREPARED_FNA_PATH = os.path.join(PREPARED_DIR, \"transcriptomes.fna\")\n",
    "TRANSCRIPTOMES_PATH = os.path.join(PREPARED_DIR, \"transcriptomes.json\")"
   ]
  },
  {
   "cell_type": "code",
   "execution_count": null,
   "metadata": {},
   "outputs": [],
   "source": [
    "# data preparation\n",
    "def prepare_data(fna_path=FNA_PATH, \n",
    "                 rna_18s_path=RNA_18S_PATH, \n",
    "                 fna_meta_path=FNA_META_PATH, \n",
    "                 fna_meta_sep=FNA_META_SEP,\n",
    "                 transcriptomes_path=TRANSCRIPTOMES_PATH,\n",
    "                 prepared_fna_path=PREPARED_FNA_PATH,\n",
    "                 prepared_18s_path=PREPARED_18S_PATH):\n",
    "    \n",
    "    samples_dict = get_samples_dict(fna_meta_path=fna_meta_path, sep=fna_meta_sep)\n",
    "\n",
    "    rna_seqs = SeqsDict.load_from_file(rna_18s_path, seqs_format=\"fasta\", low_memory=False)\n",
    "    print(\"18S rRNA sequences read\")\n",
    "    rna_names_conv = convert_rna_names(rna_seqs, samples_dict)\n",
    "    print(\"\\n\")\n",
    "    fna_names_conv = convert_fna_names(in_fna_path=fna_path, \n",
    "                                       sample_names=rna_names_conv, \n",
    "                                       out_fna_path=prepared_fna_path)\n",
    "    print(\"Transcriptome sequences read\")\n",
    "\n",
    "    transcriptomes = list()\n",
    "    fna_ids_conv = dict()\n",
    "    for sample_name in fna_names_conv:\n",
    "        transcriptomes.append(GenomeInfo(genome_id=sample_name, \n",
    "                                         org_name=samples_dict[sample_name],\n",
    "                                         fna_path=prepared_fna_path,\n",
    "                                         fna_id_list=list(fna_names_conv[sample_name])).get_json())\n",
    "    with open(transcriptomes_path, \"w\") as transcriptomes_f:\n",
    "        json.dump(transcriptomes, transcriptomes_f, indent=2)\n",
    "    print(\"%s trascriptomes prepared\" % len(transcriptomes))\n",
    "\n",
    "    rna_seqs.rename_seqs({rna_names_conv[t_name]: t_name for t_name in fna_names_conv})\n",
    "    rna_seqs.get_sample(list(fna_names_conv.keys()), low_memory=False).dump(prepared_18s_path, seqs_format=\"fasta\")\n",
    "\n",
    "prepare_data()"
   ]
  }
 ],
 "metadata": {
  "kernelspec": {
   "display_name": "Python 3",
   "language": "python",
   "name": "python3"
  },
  "language_info": {
   "codemirror_mode": {
    "name": "ipython",
    "version": 3
   },
   "file_extension": ".py",
   "mimetype": "text/x-python",
   "name": "python",
   "nbconvert_exporter": "python",
   "pygments_lexer": "ipython3",
   "version": "3.6.9"
  }
 },
 "nbformat": 4,
 "nbformat_minor": 4
}
