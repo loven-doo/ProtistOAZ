{
 "cells": [
  {
   "cell_type": "code",
   "execution_count": 19,
   "metadata": {},
   "outputs": [],
   "source": [
    "# imports\n",
    "import os\n",
    "import sys\n",
    "import json\n",
    "from collections import defaultdict\n",
    "\n",
    "import pandas as pd\n",
    "\n",
    "import eagledb\n",
    "import eagle\n",
    "from eagledb.scheme import GenomeInfo\n",
    "from eagle.lib.seqs import SeqsDict\n",
    "\n",
    "sys.path[0] = os.path.abspath(\"../\")"
   ]
  },
  {
   "cell_type": "code",
   "execution_count": 2,
   "metadata": {},
   "outputs": [],
   "source": [
    "# constants\n",
    "SOURCES_DIR = \"source\"\n",
    "FNA_PATH = os.path.join(SOURCES_DIR, \"CAM_P_0001000.nt.fa\")\n",
    "FNA_META_PATH = os.path.join(SOURCES_DIR, \"fna_meta.csv\")\n",
    "FNA_META_SEP = \",\"\n",
    "RNA_18S_PATH = os.path.join(SOURCES_DIR, \"18s.fasta\")\n",
    "PREPARED_DIR = \"prepared\""
   ]
  },
  {
   "cell_type": "code",
   "execution_count": 18,
   "metadata": {},
   "outputs": [],
   "source": [
    "# lib\n",
    "def get_samples_dict(fna_meta_path, sep):\n",
    "    fna_meta_df = pd.read_csv(fna_meta_path, sep=sep)[[\"BIOMATERIAL_NAME\", \"SAMPLE_DESCRIPTION\"]]\n",
    "    return dict(filter(lambda s: s[0], fna_meta_df.apply(prepare_sample_meta, axis=1)))\n",
    "\n",
    "\n",
    "def prepare_sample_meta(sample_meta):\n",
    "    s_name = sample_meta[\"BIOMATERIAL_NAME\"]\n",
    "    s_descr = sample_meta[\"SAMPLE_DESCRIPTION\"]\n",
    "    if s_name[:7] == \"(MMETSP\":\n",
    "        return s_name[:12].strip(\"()\"), s_descr.split(\"(\")[0].strip().replace(\" \", \"_\")\n",
    "    else:\n",
    "        return None, None\n",
    "    \n",
    "\n",
    "def convert_rna_names(in_rna_seqs, sample_names):   \n",
    "    transformed_names = dict()\n",
    "    for seq_name in in_rna_seqs:\n",
    "        transformed_name = None\n",
    "        transformed_name = seq_name.split(\"|\")[0]\n",
    "        if transformed_name in sample_names:\n",
    "            transformed_names[transformed_name] = seq_name\n",
    "        else:\n",
    "            print(\"sample '%s' is absent in sample_names\" % seq_name)\n",
    "    return transformed_names\n",
    "\n",
    "\n",
    "def convert_fna_names(in_fna_seqs, sample_names):\n",
    "    transformed_names = defaultdict(dict)\n",
    "    for seq_name in in_fna_seqs:\n",
    "        transformed_name = None\n",
    "        sample_name = None\n",
    "        transformed_name = seq_name.split(\" \")[1].split(\"=\")[-1]\n",
    "        sample_name = transformed_name.split(\"-\")[0]\n",
    "        if sample_name in sample_names:\n",
    "            if transformed_name in transformed_names[sample_name]:\n",
    "                l = len(transformed_names[sample_name])\n",
    "                transformed_names[sample_name][transformed_name+\"_\"+str(l)] = seq_name\n",
    "            else:\n",
    "                transformed_names[sample_name][transformed_name] = seq_name\n",
    "        else:\n",
    "            print(\"sample '%s' is absent in sample_names\" % transformed_name)\n",
    "    return transformed_names"
   ]
  },
  {
   "cell_type": "code",
   "execution_count": 16,
   "metadata": {
    "scrolled": false
   },
   "outputs": [
    {
     "name": "stdout",
     "output_type": "stream",
     "text": [
      "sample 'MMETSP0047|Chroomonas-mesostigmaticacf-CCMP1168' is absent in meta table\n",
      "sample 'MMETSP0053|Prorocentrum-minimum-CCMP1329' is absent in meta table\n",
      "sample 'MMETSP0055|Prorocentrum-minimum-CCMP1329' is absent in meta table\n",
      "sample 'MMETSP0056|Prorocentrum-minimum-CCMP1329' is absent in meta table\n",
      "sample 'MMETSP0057|Prorocentrum-minimum-CCMP1329' is absent in meta table\n",
      "sample 'MMETSP0166|Vannella-robusta-DIVA3518-3-11-1-6' is absent in meta table\n",
      "sample 'MMETSP0205|Euplotes-focardii-TN1' is absent in meta table\n",
      "sample 'MMETSP0206|Euplotes-focardii-TN1' is absent in meta table\n",
      "sample 'MMETSP0223|Akashiwo-sanguinea-CCCM885' is absent in meta table\n",
      "sample 'MMETSP0693|Thalassionema-nitzschioides' is absent in meta table\n",
      "sample 'MMETSP1019|Anophryoides-haemophila-AH6' is absent in meta table\n",
      "sample 'MMETSP1083|Prymnesium-parvum-Texoma1' is absent in meta table\n",
      "sample 'MMETSP1325|Florenciella-sp-RCC1007' is absent in meta table\n",
      "sample 'MMETSP1459|Pycnococcus-provasolii-RCC931' is absent in meta table\n",
      "sample 'MMETSP1463|Pavlova-lutheri-RCC1537' is absent in meta table\n",
      "sample 'MMETSP1464|Exanthemachrysis-gayraliae-RCC1523' is absent in meta table\n",
      "sample 'MMETSP1466|Pavlova-gyrans-CCMP608' is absent in meta table\n",
      "sample 'MMETSP1469|Unidentifiedeukaryote-sp-CCMP1205' is absent in meta table\n",
      "sample 'MMETSP1470|Unidentifiedeukaryote-sp-CCMP2175' is absent in meta table\n",
      "sample 'MMETSP1472|Pycnococcus-provasolii-RCC251' is absent in meta table\n",
      "sample 'MMETSP1473|Stichococcus-sp-RCC1054' is absent in meta table\n",
      "sample 'MMETSP1474|Imantonia-sp-RCC918' is absent in meta table\n"
     ]
    }
   ],
   "source": [
    "# data preparation\n",
    "samples_dict = get_samples_dict(fna_meta_path=FNA_META_PATH, sep=FNA_META_SEP)\n",
    "\n",
    "rna_seqs = SeqsDict.load_from_file(RNA_18S_PATH, seqs_format=\"fasta\", low_memory=False)\n",
    "rna_names_conv = convert_rna_names(rna_seqs, samples_dict)\n",
    "\n",
    "fna_seqs = SeqsDict.load_from_file(FNA_PATH, seqs_format=\"fasta\", low_memory=True)\n",
    "fna_names_conv = convert_fna_names(fna_seqs, rna_names_conv)\n",
    "\n"
   ]
  },
  {
   "cell_type": "code",
   "execution_count": 17,
   "metadata": {},
   "outputs": [
    {
     "name": "stdout",
     "output_type": "stream",
     "text": [
      "656\n",
      "633\n"
     ]
    }
   ],
   "source": [
    "print(len(samples_dict))\n",
    "print(len(rna_names_conv))"
   ]
  },
  {
   "cell_type": "code",
   "execution_count": 26,
   "metadata": {},
   "outputs": [
    {
     "name": "stdout",
     "output_type": "stream",
     "text": [
      "25\n",
      "\n",
      "\n",
      "196\n",
      "4\n"
     ]
    }
   ],
   "source": [
    "class C(object):\n",
    "    \n",
    "    y = 8\n",
    "    \n",
    "    def __init__(self, x):\n",
    "        self._x = x\n",
    "    \n",
    "    @property\n",
    "    def x2(self):\n",
    "        return self._x**2\n",
    "    \n",
    "    @staticmethod\n",
    "    def hello():\n",
    "        print(\"Hello!\")\n",
    "        \n",
    "    @classmethod\n",
    "    def load(cls, a):\n",
    "        return cls(a+cls.y)\n",
    "    \n",
    "    def return_tuple(self, v):\n",
    "        return (v,)\n",
    "    \n",
    "\n",
    "c = C(5)\n",
    "print(c.x2)\n",
    "c.hello\n",
    "\n",
    "print(\"\\n\")\n",
    "\n",
    "cc = C.load(6)\n",
    "print(cc.x2)\n",
    "print(sum(cc.return_tuple(4)))"
   ]
  },
  {
   "cell_type": "code",
   "execution_count": 20,
   "metadata": {},
   "outputs": [
    {
     "ename": "JSONDecodeError",
     "evalue": "Expecting value: line 1 column 1 (char 0)",
     "output_type": "error",
     "traceback": [
      "\u001b[0;31m---------------------------------------------------------------------------\u001b[0m",
      "\u001b[0;31mJSONDecodeError\u001b[0m                           Traceback (most recent call last)",
      "\u001b[0;32m<ipython-input-20-442690ca4537>\u001b[0m in \u001b[0;36m<module>\u001b[0;34m\u001b[0m\n\u001b[1;32m      1\u001b[0m \u001b[0ms\u001b[0m \u001b[0;34m=\u001b[0m \u001b[0;34m\"abc\"\u001b[0m\u001b[0;34m\u001b[0m\u001b[0;34m\u001b[0m\u001b[0m\n\u001b[0;32m----> 2\u001b[0;31m \u001b[0mjson\u001b[0m\u001b[0;34m.\u001b[0m\u001b[0mloads\u001b[0m\u001b[0;34m(\u001b[0m\u001b[0ms\u001b[0m\u001b[0;34m)\u001b[0m\u001b[0;34m\u001b[0m\u001b[0;34m\u001b[0m\u001b[0m\n\u001b[0m",
      "\u001b[0;32m/usr/lib/python3.6/json/__init__.py\u001b[0m in \u001b[0;36mloads\u001b[0;34m(s, encoding, cls, object_hook, parse_float, parse_int, parse_constant, object_pairs_hook, **kw)\u001b[0m\n\u001b[1;32m    352\u001b[0m             \u001b[0mparse_int\u001b[0m \u001b[0;32mis\u001b[0m \u001b[0;32mNone\u001b[0m \u001b[0;32mand\u001b[0m \u001b[0mparse_float\u001b[0m \u001b[0;32mis\u001b[0m \u001b[0;32mNone\u001b[0m \u001b[0;32mand\u001b[0m\u001b[0;34m\u001b[0m\u001b[0;34m\u001b[0m\u001b[0m\n\u001b[1;32m    353\u001b[0m             parse_constant is None and object_pairs_hook is None and not kw):\n\u001b[0;32m--> 354\u001b[0;31m         \u001b[0;32mreturn\u001b[0m \u001b[0m_default_decoder\u001b[0m\u001b[0;34m.\u001b[0m\u001b[0mdecode\u001b[0m\u001b[0;34m(\u001b[0m\u001b[0ms\u001b[0m\u001b[0;34m)\u001b[0m\u001b[0;34m\u001b[0m\u001b[0;34m\u001b[0m\u001b[0m\n\u001b[0m\u001b[1;32m    355\u001b[0m     \u001b[0;32mif\u001b[0m \u001b[0mcls\u001b[0m \u001b[0;32mis\u001b[0m \u001b[0;32mNone\u001b[0m\u001b[0;34m:\u001b[0m\u001b[0;34m\u001b[0m\u001b[0;34m\u001b[0m\u001b[0m\n\u001b[1;32m    356\u001b[0m         \u001b[0mcls\u001b[0m \u001b[0;34m=\u001b[0m \u001b[0mJSONDecoder\u001b[0m\u001b[0;34m\u001b[0m\u001b[0;34m\u001b[0m\u001b[0m\n",
      "\u001b[0;32m/usr/lib/python3.6/json/decoder.py\u001b[0m in \u001b[0;36mdecode\u001b[0;34m(self, s, _w)\u001b[0m\n\u001b[1;32m    337\u001b[0m \u001b[0;34m\u001b[0m\u001b[0m\n\u001b[1;32m    338\u001b[0m         \"\"\"\n\u001b[0;32m--> 339\u001b[0;31m         \u001b[0mobj\u001b[0m\u001b[0;34m,\u001b[0m \u001b[0mend\u001b[0m \u001b[0;34m=\u001b[0m \u001b[0mself\u001b[0m\u001b[0;34m.\u001b[0m\u001b[0mraw_decode\u001b[0m\u001b[0;34m(\u001b[0m\u001b[0ms\u001b[0m\u001b[0;34m,\u001b[0m \u001b[0midx\u001b[0m\u001b[0;34m=\u001b[0m\u001b[0m_w\u001b[0m\u001b[0;34m(\u001b[0m\u001b[0ms\u001b[0m\u001b[0;34m,\u001b[0m \u001b[0;36m0\u001b[0m\u001b[0;34m)\u001b[0m\u001b[0;34m.\u001b[0m\u001b[0mend\u001b[0m\u001b[0;34m(\u001b[0m\u001b[0;34m)\u001b[0m\u001b[0;34m)\u001b[0m\u001b[0;34m\u001b[0m\u001b[0;34m\u001b[0m\u001b[0m\n\u001b[0m\u001b[1;32m    340\u001b[0m         \u001b[0mend\u001b[0m \u001b[0;34m=\u001b[0m \u001b[0m_w\u001b[0m\u001b[0;34m(\u001b[0m\u001b[0ms\u001b[0m\u001b[0;34m,\u001b[0m \u001b[0mend\u001b[0m\u001b[0;34m)\u001b[0m\u001b[0;34m.\u001b[0m\u001b[0mend\u001b[0m\u001b[0;34m(\u001b[0m\u001b[0;34m)\u001b[0m\u001b[0;34m\u001b[0m\u001b[0;34m\u001b[0m\u001b[0m\n\u001b[1;32m    341\u001b[0m         \u001b[0;32mif\u001b[0m \u001b[0mend\u001b[0m \u001b[0;34m!=\u001b[0m \u001b[0mlen\u001b[0m\u001b[0;34m(\u001b[0m\u001b[0ms\u001b[0m\u001b[0;34m)\u001b[0m\u001b[0;34m:\u001b[0m\u001b[0;34m\u001b[0m\u001b[0;34m\u001b[0m\u001b[0m\n",
      "\u001b[0;32m/usr/lib/python3.6/json/decoder.py\u001b[0m in \u001b[0;36mraw_decode\u001b[0;34m(self, s, idx)\u001b[0m\n\u001b[1;32m    355\u001b[0m             \u001b[0mobj\u001b[0m\u001b[0;34m,\u001b[0m \u001b[0mend\u001b[0m \u001b[0;34m=\u001b[0m \u001b[0mself\u001b[0m\u001b[0;34m.\u001b[0m\u001b[0mscan_once\u001b[0m\u001b[0;34m(\u001b[0m\u001b[0ms\u001b[0m\u001b[0;34m,\u001b[0m \u001b[0midx\u001b[0m\u001b[0;34m)\u001b[0m\u001b[0;34m\u001b[0m\u001b[0;34m\u001b[0m\u001b[0m\n\u001b[1;32m    356\u001b[0m         \u001b[0;32mexcept\u001b[0m \u001b[0mStopIteration\u001b[0m \u001b[0;32mas\u001b[0m \u001b[0merr\u001b[0m\u001b[0;34m:\u001b[0m\u001b[0;34m\u001b[0m\u001b[0;34m\u001b[0m\u001b[0m\n\u001b[0;32m--> 357\u001b[0;31m             \u001b[0;32mraise\u001b[0m \u001b[0mJSONDecodeError\u001b[0m\u001b[0;34m(\u001b[0m\u001b[0;34m\"Expecting value\"\u001b[0m\u001b[0;34m,\u001b[0m \u001b[0ms\u001b[0m\u001b[0;34m,\u001b[0m \u001b[0merr\u001b[0m\u001b[0;34m.\u001b[0m\u001b[0mvalue\u001b[0m\u001b[0;34m)\u001b[0m \u001b[0;32mfrom\u001b[0m \u001b[0;32mNone\u001b[0m\u001b[0;34m\u001b[0m\u001b[0;34m\u001b[0m\u001b[0m\n\u001b[0m\u001b[1;32m    358\u001b[0m         \u001b[0;32mreturn\u001b[0m \u001b[0mobj\u001b[0m\u001b[0;34m,\u001b[0m \u001b[0mend\u001b[0m\u001b[0;34m\u001b[0m\u001b[0;34m\u001b[0m\u001b[0m\n",
      "\u001b[0;31mJSONDecodeError\u001b[0m: Expecting value: line 1 column 1 (char 0)"
     ]
    }
   ],
   "source": [
    "s = \"abc\"\n",
    "json.loads(s)"
   ]
  }
 ],
 "metadata": {
  "kernelspec": {
   "display_name": "Python 3",
   "language": "python",
   "name": "python3"
  },
  "language_info": {
   "codemirror_mode": {
    "name": "ipython",
    "version": 3
   },
   "file_extension": ".py",
   "mimetype": "text/x-python",
   "name": "python",
   "nbconvert_exporter": "python",
   "pygments_lexer": "ipython3",
   "version": "3.6.9"
  }
 },
 "nbformat": 4,
 "nbformat_minor": 4
}
