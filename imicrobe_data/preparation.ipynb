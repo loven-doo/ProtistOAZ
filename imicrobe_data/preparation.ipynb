{
 "cells": [
  {
   "cell_type": "code",
   "execution_count": 7,
   "metadata": {},
   "outputs": [],
   "source": [
    "# imports\n",
    "import os\n",
    "import sys\n",
    "import json\n",
    "from collections import defaultdict###\n",
    "\n",
    "import numpy as np###\n",
    "import pandas as pd###\n",
    "\n",
    "import eagledb\n",
    "import eagle\n",
    "from eagledb.scheme import GenomeInfo\n",
    "from eagle.lib.seqs import SeqsDict\n",
    "\n",
    "sys.path[0] = os.path.abspath(\"../\")"
   ]
  },
  {
   "cell_type": "code",
   "execution_count": 21,
   "metadata": {},
   "outputs": [],
   "source": [
    "# constants\n",
    "SOURCES_DIR = \"source\"\n",
    "FNA_PATH = os.path.join(SOURCES_DIR, \"CAM_P_0001000.nt.fa\")\n",
    "FNA_META_PATH = os.path.join(SOURCES_DIR, \"fna_meta.csv\")\n",
    "FNA_META_SEP = \",\"\n",
    "RNA_18S_PATH = os.path.join(SOURCES_DIR, \"18s.fasta\")\n",
    "PREPARED_DIR = \"prepared\"\n",
    "PREPARED_18S_PATH = os.path.join(PREPARED_DIR, \"18s.fasta\")\n",
    "PREPARED_FNA_PATH = os.path.join(PREPARED_DIR, \"transcriptomes.fna\")\n",
    "TRANSCRIPTOMES_PATH = os.path.join(PREPARED_DIR, \"transcriptomes.json\")"
   ]
  },
  {
   "cell_type": "code",
   "execution_count": 13,
   "metadata": {},
   "outputs": [],
   "source": [
    "# lib\n",
    "def get_samples_dict(fna_meta_path, sep):\n",
    "    fna_meta_df = pd.read_csv(fna_meta_path, sep=sep)[[\"BIOMATERIAL_NAME\", \"SAMPLE_DESCRIPTION\"]]\n",
    "    return dict(filter(lambda s: s[0], fna_meta_df.apply(prepare_sample_meta, axis=1)))\n",
    "\n",
    "\n",
    "def prepare_sample_meta(sample_meta):\n",
    "    s_name = sample_meta[\"BIOMATERIAL_NAME\"]\n",
    "    s_descr = sample_meta[\"SAMPLE_DESCRIPTION\"]\n",
    "    if s_name[:7] == \"(MMETSP\":\n",
    "        return s_name[:12].strip(\"()\"), s_descr.split(\"(\")[0].strip().replace(\" \", \"_\")\n",
    "    else:\n",
    "        return None, None\n",
    "    \n",
    "\n",
    "def convert_rna_names(in_rna_seqs, sample_names):   \n",
    "    transformed_names = dict()\n",
    "    for seq_name in in_rna_seqs:\n",
    "        transformed_name = None\n",
    "        transformed_name = seq_name.split(\"|\")[0]\n",
    "        if transformed_name in sample_names:\n",
    "            transformed_names[transformed_name] = seq_name\n",
    "        else:\n",
    "            print(\"sample '%s' is absent in sample_names\" % seq_name)\n",
    "    return transformed_names\n",
    "\n",
    "\n",
    "def convert_fna_names(in_fna_seqs, sample_names):\n",
    "    transformed_names = defaultdict(dict)\n",
    "    for seq_name in in_fna_seqs:\n",
    "        transformed_name = None\n",
    "        sample_name = None\n",
    "        transformed_name = seq_name.split(\" \")[1].split(\"=\")[-1]\n",
    "        sample_name = transformed_name.split(\"-\")[0]\n",
    "        if sample_name in sample_names:\n",
    "            if transformed_name in transformed_names[sample_name]:\n",
    "                l = len(transformed_names[sample_name])\n",
    "                transformed_names[sample_name][transformed_name+\"_\"+str(l)] = seq_name\n",
    "            else:\n",
    "                transformed_names[sample_name][transformed_name] = seq_name\n",
    "        else:\n",
    "            print(\"sample '%s' is absent in sample_names\" % transformed_name)\n",
    "    return transformed_names"
   ]
  },
  {
   "cell_type": "code",
   "execution_count": 22,
   "metadata": {
    "scrolled": false
   },
   "outputs": [
    {
     "name": "stdout",
     "output_type": "stream",
     "text": [
      "sample 'MMETSP0047|Chroomonas-mesostigmaticacf-CCMP1168' is absent in sample_names\n",
      "sample 'MMETSP0053|Prorocentrum-minimum-CCMP1329' is absent in sample_names\n",
      "sample 'MMETSP0055|Prorocentrum-minimum-CCMP1329' is absent in sample_names\n",
      "sample 'MMETSP0056|Prorocentrum-minimum-CCMP1329' is absent in sample_names\n",
      "sample 'MMETSP0057|Prorocentrum-minimum-CCMP1329' is absent in sample_names\n",
      "sample 'MMETSP0166|Vannella-robusta-DIVA3518-3-11-1-6' is absent in sample_names\n",
      "sample 'MMETSP0205|Euplotes-focardii-TN1' is absent in sample_names\n",
      "sample 'MMETSP0206|Euplotes-focardii-TN1' is absent in sample_names\n",
      "sample 'MMETSP0223|Akashiwo-sanguinea-CCCM885' is absent in sample_names\n",
      "sample 'MMETSP0693|Thalassionema-nitzschioides' is absent in sample_names\n",
      "sample 'MMETSP1019|Anophryoides-haemophila-AH6' is absent in sample_names\n",
      "sample 'MMETSP1083|Prymnesium-parvum-Texoma1' is absent in sample_names\n",
      "sample 'MMETSP1325|Florenciella-sp-RCC1007' is absent in sample_names\n",
      "sample 'MMETSP1459|Pycnococcus-provasolii-RCC931' is absent in sample_names\n",
      "sample 'MMETSP1463|Pavlova-lutheri-RCC1537' is absent in sample_names\n",
      "sample 'MMETSP1464|Exanthemachrysis-gayraliae-RCC1523' is absent in sample_names\n",
      "sample 'MMETSP1466|Pavlova-gyrans-CCMP608' is absent in sample_names\n",
      "sample 'MMETSP1469|Unidentifiedeukaryote-sp-CCMP1205' is absent in sample_names\n",
      "sample 'MMETSP1470|Unidentifiedeukaryote-sp-CCMP2175' is absent in sample_names\n",
      "sample 'MMETSP1472|Pycnococcus-provasolii-RCC251' is absent in sample_names\n",
      "sample 'MMETSP1473|Stichococcus-sp-RCC1054' is absent in sample_names\n",
      "sample 'MMETSP1474|Imantonia-sp-RCC918' is absent in sample_names\n",
      "\n",
      "\n"
     ]
    },
    {
     "ename": "OSError",
     "evalue": "[Errno 28] No space left on device",
     "output_type": "error",
     "traceback": [
      "\u001b[0;31m---------------------------------------------------------------------------\u001b[0m",
      "\u001b[0;31mOSError\u001b[0m                                   Traceback (most recent call last)",
      "\u001b[0;32m/media/denis/Data/Data/Bioinf/Projects/Proekty/ProtistOAZ/venv/lib/python3.6/site-packages/numpy/core/memmap.py\u001b[0m in \u001b[0;36m__new__\u001b[0;34m(subtype, filename, dtype, mode, offset, shape, order)\u001b[0m\n\u001b[1;32m    251\u001b[0m                 \u001b[0mfid\u001b[0m\u001b[0;34m.\u001b[0m\u001b[0mwrite\u001b[0m\u001b[0;34m(\u001b[0m\u001b[0;34mb'\\0'\u001b[0m\u001b[0;34m)\u001b[0m\u001b[0;34m\u001b[0m\u001b[0;34m\u001b[0m\u001b[0m\n\u001b[0;32m--> 252\u001b[0;31m                 \u001b[0mfid\u001b[0m\u001b[0;34m.\u001b[0m\u001b[0mflush\u001b[0m\u001b[0;34m(\u001b[0m\u001b[0;34m)\u001b[0m\u001b[0;34m\u001b[0m\u001b[0;34m\u001b[0m\u001b[0m\n\u001b[0m\u001b[1;32m    253\u001b[0m \u001b[0;34m\u001b[0m\u001b[0m\n",
      "\u001b[0;31mOSError\u001b[0m: [Errno 28] No space left on device",
      "\nDuring handling of the above exception, another exception occurred:\n",
      "\u001b[0;31mOSError\u001b[0m                                   Traceback (most recent call last)",
      "\u001b[0;32m<ipython-input-22-b6fd233224e3>\u001b[0m in \u001b[0;36m<module>\u001b[0;34m\u001b[0m\n\u001b[1;32m      5\u001b[0m \u001b[0mrna_names_conv\u001b[0m \u001b[0;34m=\u001b[0m \u001b[0mconvert_rna_names\u001b[0m\u001b[0;34m(\u001b[0m\u001b[0mrna_seqs\u001b[0m\u001b[0;34m,\u001b[0m \u001b[0msamples_dict\u001b[0m\u001b[0;34m)\u001b[0m\u001b[0;34m\u001b[0m\u001b[0;34m\u001b[0m\u001b[0m\n\u001b[1;32m      6\u001b[0m \u001b[0mprint\u001b[0m\u001b[0;34m(\u001b[0m\u001b[0;34m\"\\n\"\u001b[0m\u001b[0;34m)\u001b[0m\u001b[0;34m\u001b[0m\u001b[0;34m\u001b[0m\u001b[0m\n\u001b[0;32m----> 7\u001b[0;31m \u001b[0mfna_seqs\u001b[0m \u001b[0;34m=\u001b[0m \u001b[0mSeqsDict\u001b[0m\u001b[0;34m.\u001b[0m\u001b[0mload_from_file\u001b[0m\u001b[0;34m(\u001b[0m\u001b[0mFNA_PATH\u001b[0m\u001b[0;34m,\u001b[0m \u001b[0mseqs_format\u001b[0m\u001b[0;34m=\u001b[0m\u001b[0;34m\"fasta\"\u001b[0m\u001b[0;34m,\u001b[0m \u001b[0mlow_memory\u001b[0m\u001b[0;34m=\u001b[0m\u001b[0;32mTrue\u001b[0m\u001b[0;34m)\u001b[0m\u001b[0;34m\u001b[0m\u001b[0;34m\u001b[0m\u001b[0m\n\u001b[0m\u001b[1;32m      8\u001b[0m \u001b[0mfna_names_conv\u001b[0m \u001b[0;34m=\u001b[0m \u001b[0mconvert_fna_names\u001b[0m\u001b[0;34m(\u001b[0m\u001b[0mfna_seqs\u001b[0m\u001b[0;34m,\u001b[0m \u001b[0mrna_names_conv\u001b[0m\u001b[0;34m)\u001b[0m\u001b[0;34m\u001b[0m\u001b[0;34m\u001b[0m\u001b[0m\n\u001b[1;32m      9\u001b[0m \u001b[0;34m\u001b[0m\u001b[0m\n",
      "\u001b[0;32m/media/denis/Data/Data/Bioinf/Projects/Proekty/ProtistOAZ/venv/lib/python3.6/site-packages/eagle/lib/seqs.py\u001b[0m in \u001b[0;36mload_from_file\u001b[0;34m(cls, seqs_path, seqs_format, low_memory, **kwargs)\u001b[0m\n\u001b[1;32m    180\u001b[0m                                                    \u001b[0mmode\u001b[0m\u001b[0;34m=\u001b[0m\u001b[0;34m'r+'\u001b[0m\u001b[0;34m,\u001b[0m\u001b[0;34m\u001b[0m\u001b[0;34m\u001b[0m\u001b[0m\n\u001b[1;32m    181\u001b[0m                                                    \u001b[0mshape\u001b[0m\u001b[0;34m=\u001b[0m\u001b[0mseqs_array\u001b[0m\u001b[0;34m.\u001b[0m\u001b[0mshape\u001b[0m\u001b[0;34m[\u001b[0m\u001b[0;36m0\u001b[0m\u001b[0;34m]\u001b[0m\u001b[0;34m+\u001b[0m\u001b[0mread_chunk_size\u001b[0m\u001b[0;34m,\u001b[0m\u001b[0;34m\u001b[0m\u001b[0;34m\u001b[0m\u001b[0m\n\u001b[0;32m--> 182\u001b[0;31m                                                    order='C')\n\u001b[0m\u001b[1;32m    183\u001b[0m                         \u001b[0;32melse\u001b[0m\u001b[0;34m:\u001b[0m\u001b[0;34m\u001b[0m\u001b[0;34m\u001b[0m\u001b[0m\n\u001b[1;32m    184\u001b[0m                             \u001b[0mseqs_array\u001b[0m \u001b[0;34m=\u001b[0m \u001b[0mnp\u001b[0m\u001b[0;34m.\u001b[0m\u001b[0mconcatenate\u001b[0m\u001b[0;34m(\u001b[0m\u001b[0;34m(\u001b[0m\u001b[0mseqs_array\u001b[0m\u001b[0;34m,\u001b[0m \u001b[0mnp\u001b[0m\u001b[0;34m.\u001b[0m\u001b[0mzeros\u001b[0m\u001b[0;34m(\u001b[0m\u001b[0mread_chunk_size\u001b[0m\u001b[0;34m,\u001b[0m \u001b[0mdtype\u001b[0m\u001b[0;34m=\u001b[0m\u001b[0mseqs_array\u001b[0m\u001b[0;34m.\u001b[0m\u001b[0mdtype\u001b[0m\u001b[0;34m)\u001b[0m\u001b[0;34m)\u001b[0m\u001b[0;34m)\u001b[0m\u001b[0;34m\u001b[0m\u001b[0;34m\u001b[0m\u001b[0m\n",
      "\u001b[0;32m/media/denis/Data/Data/Bioinf/Projects/Proekty/ProtistOAZ/venv/lib/python3.6/site-packages/numpy/core/memmap.py\u001b[0m in \u001b[0;36m__new__\u001b[0;34m(subtype, filename, dtype, mode, offset, shape, order)\u001b[0m\n\u001b[1;32m    279\u001b[0m             \u001b[0;31m# same as memmap copies (e.g. memmap + 1)\u001b[0m\u001b[0;34m\u001b[0m\u001b[0;34m\u001b[0m\u001b[0;34m\u001b[0m\u001b[0m\n\u001b[1;32m    280\u001b[0m             \u001b[0;32melse\u001b[0m\u001b[0;34m:\u001b[0m\u001b[0;34m\u001b[0m\u001b[0;34m\u001b[0m\u001b[0m\n\u001b[0;32m--> 281\u001b[0;31m                 \u001b[0mself\u001b[0m\u001b[0;34m.\u001b[0m\u001b[0mfilename\u001b[0m \u001b[0;34m=\u001b[0m \u001b[0;32mNone\u001b[0m\u001b[0;34m\u001b[0m\u001b[0;34m\u001b[0m\u001b[0m\n\u001b[0m\u001b[1;32m    282\u001b[0m \u001b[0;34m\u001b[0m\u001b[0m\n\u001b[1;32m    283\u001b[0m         \u001b[0;32mreturn\u001b[0m \u001b[0mself\u001b[0m\u001b[0;34m\u001b[0m\u001b[0;34m\u001b[0m\u001b[0m\n",
      "\u001b[0;31mOSError\u001b[0m: [Errno 28] No space left on device"
     ]
    }
   ],
   "source": [
    "# data preparation\n",
    "def prepare_data(fna_path=FNA_PATH, \n",
    "                 rna_18s_path=RNA_18S_PATH, \n",
    "                 fna_meta_path=FNA_META_PATH, \n",
    "                 fna_meta_sep=FNA_META_SEP,\n",
    "                 transcriptomes_path=TRANSCRIPTOMES_PATH,\n",
    "                 prepared_fna_path=PREPARED_FNA_PATH,\n",
    "                 prepared_18s_path=PREPARED_18S_PATH):\n",
    "    \n",
    "    samples_dict = get_samples_dict(fna_meta_path=fna_meta_path, sep=fna_meta_sep)\n",
    "\n",
    "    rna_seqs = SeqsDict.load_from_file(rna_18s_path, seqs_format=\"fasta\", low_memory=False)\n",
    "    rna_names_conv = convert_rna_names(rna_seqs, samples_dict)\n",
    "    print(\"\\n\")\n",
    "    fna_seqs = SeqsDict.load_from_file(fna_path, seqs_format=\"fasta\", low_memory=True)\n",
    "    fna_names_conv = convert_fna_names(fna_seqs, rna_names_conv)\n",
    "\n",
    "    transcriptomes = list()\n",
    "    fna_ids_conv = dict()\n",
    "    for sample_name in fna_names_conv:\n",
    "        transcriptomes.append(GenomeInfo(genome_id=sample_name, \n",
    "                                         org_name=samples_dict[sample_name],\n",
    "                                         fna_path=prepared_fna_path,\n",
    "                                         fna_id_list=list(fna_names_conv[sample_name].keys())).get_json())\n",
    "        fna_ids_conv.update(fna_names_conv[sample_name])\n",
    "    with open(transcriptomes_path, \"w\") as transcriptomes_f:\n",
    "        json.dump(transcriptomes, transcriptomes_f)\n",
    "\n",
    "    rna_seqs.rename_seqs({rna_names_conv[t_name]: t_name for t_name in fna_names_conv})\n",
    "    rna_seqs.get_sample(list(fna_names_conv.keys()), low_memory=False).dump(prepared_18s_path, seqs_format=\"fasta\")\n",
    "    fna_seqs.rename_seqs({fna_ids_conv[t_name]: t_name for t_name in fna_ids_conv})\n",
    "    fna_seqs.get_sample(list(fna_ids_conv.keys()), low_memory=True).dump(prepared_fna_path, seqs_format=\"fasta\")\n",
    "\n",
    "\n",
    "prepare_data()"
   ]
  },
  {
   "cell_type": "code",
   "execution_count": 19,
   "metadata": {},
   "outputs": [
    {
     "name": "stdout",
     "output_type": "stream",
     "text": [
      "656\n",
      "633\n"
     ]
    }
   ],
   "source": [
    "print(len(samples_dict))\n",
    "print(len(rna_names_conv))"
   ]
  },
  {
   "cell_type": "code",
   "execution_count": 26,
   "metadata": {},
   "outputs": [
    {
     "name": "stdout",
     "output_type": "stream",
     "text": [
      "25\n",
      "\n",
      "\n",
      "196\n",
      "4\n"
     ]
    }
   ],
   "source": [
    "class C(object):\n",
    "    \n",
    "    y = 8\n",
    "    \n",
    "    def __init__(self, x):\n",
    "        self._x = x\n",
    "    \n",
    "    @property\n",
    "    def x2(self):\n",
    "        return self._x**2\n",
    "    \n",
    "    @staticmethod\n",
    "    def hello():\n",
    "        print(\"Hello!\")\n",
    "        \n",
    "    @classmethod\n",
    "    def load(cls, a):\n",
    "        return cls(a+cls.y)\n",
    "    \n",
    "    def return_tuple(self, v):\n",
    "        return (v,)\n",
    "    \n",
    "\n",
    "c = C(5)\n",
    "print(c.x2)\n",
    "c.hello\n",
    "\n",
    "print(\"\\n\")\n",
    "\n",
    "cc = C.load(6)\n",
    "print(cc.x2)\n",
    "print(sum(cc.return_tuple(4)))"
   ]
  }
 ],
 "metadata": {
  "kernelspec": {
   "display_name": "Python 3",
   "language": "python",
   "name": "python3"
  },
  "language_info": {
   "codemirror_mode": {
    "name": "ipython",
    "version": 3
   },
   "file_extension": ".py",
   "mimetype": "text/x-python",
   "name": "python",
   "nbconvert_exporter": "python",
   "pygments_lexer": "ipython3",
   "version": "3.6.9"
  }
 },
 "nbformat": 4,
 "nbformat_minor": 4
}
