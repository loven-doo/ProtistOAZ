{
 "cells": [
  {
   "cell_type": "code",
   "execution_count": 16,
   "metadata": {},
   "outputs": [],
   "source": [
    "# imports\n",
    "import os\n",
    "import sys\n",
    "import json\n",
    "\n",
    "import eagledb\n",
    "import eagle\n",
    "from eagledb.scheme import SeqProfileInfo, GenomeInfo\n",
    "from eagle.lib.alignment import construct_mult_aln, MultAln\n",
    "from eagle.lib.orthan import hom_search_profile\n",
    "\n",
    "sys.path[0] = os.path.abspath(\"../\")"
   ]
  },
  {
   "cell_type": "code",
   "execution_count": 17,
   "metadata": {},
   "outputs": [],
   "source": [
    "# constants\n",
    "NUM_THREADS = 4\n",
    "\n",
    "REPO_DATA_DIR = os.path.join(\"..\", \"repo_data\")\n",
    "OAZ_REPR_FASTA = os.path.join(REPO_DATA_DIR, \"oaz_repr.fasta\")\n",
    "OAZ_REPR_ALN = os.path.join(REPO_DATA_DIR, \"oaz_repr_aln.fasta\")\n",
    "OAZ_REPR_HMM = os.path.join(REPO_DATA_DIR, \"oaz_repr.hmm\")\n",
    "OAZ_REPR_INFO = os.path.join(REPO_DATA_DIR, \"oaz_repr_info.json\")\n",
    "IMICROBE_DATA_DIR = os.path.join(\"..\", \"imicrobe_data\", \"prepared\")\n",
    "RNA_FASTA = os.path.join(IMICROBE_DATA_DIR, \"18s.fasta\")\n",
    "REF_TREE_NWK = os.path.join(REPO_DATA_DIR, \"18S_rRNA_tree.nwk\")\n",
    "TRANSCRIPTOMES_PATH = os.path.join(IMICROBE_DATA_DIR, \"transcriptomes.json\")\n",
    "\n",
    "DATA_DIR = \"data\"\n",
    "RESULT_DIR = \"result\""
   ]
  },
  {
   "cell_type": "code",
   "execution_count": 18,
   "metadata": {},
   "outputs": [],
   "source": [
    "# lib\n",
    "def build_ref_tree(ref_aln_list, seqs2orgs=None, ref_tree_nwk=None):\n",
    "    mult_aln = ref_aln_list[0]\n",
    "    assert isinstance(mult_aln, MultAln), \"ERROR: items of 'ref_aln_list' should be an objects of \" \\\n",
    "                                          \"class 'eagle.lib.alignment.MultAln'\"\n",
    "    mult_aln.improve_aln(inplace=True)\n",
    "    if seqs2orgs is not None:\n",
    "        mult_aln.remove_paralogs(seq_ids_to_orgs=seqs2orgs, inplace=True)\n",
    "        mult_aln.improve_aln(inplace=True)\n",
    "    phylo_tree = mult_aln.build_tree(tree_name=mult_aln.aln_name, method=\"FastME\", options={\"-b\": 100})\n",
    "    if seqs2orgs is not None:\n",
    "        phylo_tree.full_seq_names = seqs2orgs\n",
    "        phylo_tree.set_full_names(inplace=True) \n",
    "    if ref_tree_nwk is not None:\n",
    "        return phylo_tree.dump_tree(tree_path=ref_tree_nwk, tree_format=\"newick\")\n",
    "    else:\n",
    "        return phylo_tree.newick\n",
    "\n",
    "\n",
    "def build_oaz_repr_profile(oaz_repr_fasta, oaz_repr_hmm, oaz_repr_info=None, oaz_repr_aln=None, \n",
    "                           num_threads=NUM_THREADS):\n",
    "    mult_aln = construct_mult_aln(fasta_path=oaz_repr_fasta, \n",
    "                                  method=\"MSAProbs\", \n",
    "                                  aln_name=\"OAZ_repr\", \n",
    "                                  aln_type=\"prot\",\n",
    "                                  num_threads=NUM_THREADS)\n",
    "    mult_aln.improve_aln(inplace=True)\n",
    "    if oaz_repr_aln is not None:\n",
    "        mult_aln.dump_alignment(aln_path=oaz_repr_aln, aln_format=\"fasta\")\n",
    "    mult_aln.get_hmm_profile(profile_path=oaz_repr_hmm, method=\"hmmer\")\n",
    "    profile_info = SeqProfileInfo(name=\"OAZ_repr\", path=oaz_repr_hmm, seq_type=\"prot\")\n",
    "    if oaz_repr_info is not None:\n",
    "        with open(oaz_repr_info, \"w\") as profile_info_f:\n",
    "            json.dump(profile_info.get_json(), profile_info_f, indent=2)\n",
    "        return oaz_repr_info\n",
    "    else:\n",
    "        return profile_info"
   ]
  },
  {
   "cell_type": "code",
   "execution_count": 19,
   "metadata": {},
   "outputs": [],
   "source": [
    "# load transcriptomes info\n",
    "with open(TRANSCRIPTOMES_PATH) as transcriptomes_f:\n",
    "    transcriptomes_list = json.load(transcriptomes_f)\n",
    "\n",
    "samples2orgs = dict()    \n",
    "for transcriptome_dict in transcriptomes_list:\n",
    "    transcriptome_info = GenomeInfo.load_from_dict(transcriptome_dict)\n",
    "    samples2orgs[transcriptome_info.genome_id] = transcriptome_info.org_name"
   ]
  },
  {
   "cell_type": "code",
   "execution_count": null,
   "metadata": {},
   "outputs": [],
   "source": [
    "# build 18S rRNA tree\n",
    "build_ref_tree(ref_aln_list=[construct_mult_aln(fasta_path=RNA_FASTA, \n",
    "                                                method=\"MSAProbs\", \n",
    "                                                aln_name=\"18S_rRNA\", \n",
    "                                                aln_type=\"nucl\",\n",
    "                                                num_threads=NUM_THREADS)],\n",
    "               seqs2orgs=samples2orgs,\n",
    "               ref_tree_nwk=REF_TREE_NWK)"
   ]
  },
  {
   "cell_type": "code",
   "execution_count": null,
   "metadata": {},
   "outputs": [],
   "source": [
    "# build OAZ representative profile\n",
    "build_oaz_repr_profile(oaz_repr_fasta=OAZ_REPR_FASTA, \n",
    "                       oaz_repr_hmm=OAZ_REPR_HMM, \n",
    "                       oaz_repr_info=OAZ_REPR_INFO, \n",
    "                       oaz_repr_aln=OAZ_REPR_ALN)"
   ]
  }
 ],
 "metadata": {
  "kernelspec": {
   "display_name": "Python 3",
   "language": "python",
   "name": "python3"
  },
  "language_info": {
   "codemirror_mode": {
    "name": "ipython",
    "version": 3
   },
   "file_extension": ".py",
   "mimetype": "text/x-python",
   "name": "python",
   "nbconvert_exporter": "python",
   "pygments_lexer": "ipython3",
   "version": "3.6.9"
  }
 },
 "nbformat": 4,
 "nbformat_minor": 4
}
